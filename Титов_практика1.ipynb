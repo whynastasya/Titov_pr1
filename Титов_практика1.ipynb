{
  "cells": [
    {
      "cell_type": "markdown",
      "metadata": {
        "colab_type": "text",
        "id": "view-in-github"
      },
      "source": [
        "<a href=\"https://colab.research.google.com/github/whynastasya/Titov_pr1/blob/main/%D0%A2%D0%B8%D1%82%D0%BE%D0%B2_%D0%BF%D1%80%D0%B0%D0%BA%D1%82%D0%B8%D0%BA%D0%B01.ipynb\" target=\"_parent\"><img src=\"https://colab.research.google.com/assets/colab-badge.svg\" alt=\"Open In Colab\"/></a>"
      ]
    },
    {
      "cell_type": "markdown",
      "metadata": {
        "id": "JAQaGf7nk4Q1"
      },
      "source": [
        "## **Практическое занятие №1**\n",
        "\n",
        "# **Основные понятия статистического эксперимента**"
      ]
    },
    {
      "cell_type": "markdown",
      "metadata": {
        "id": "WQUTYmCBk6iM"
      },
      "source": [
        "***Цель работы:***\n",
        "Ознакомление студентов с основными понятиями статистического\n",
        "эксперимента, являющегося основой имитационного моделирования."
      ]
    },
    {
      "cell_type": "markdown",
      "metadata": {
        "id": "OjtYQr2SlcZh"
      },
      "source": [
        "Дана окружность с координатами центра x0=1 , y0=2 и радиусом r0=5"
      ]
    },
    {
      "cell_type": "markdown",
      "metadata": {
        "id": "s5BdKoXKlQ5m"
      },
      "source": [
        "### Задание №1"
      ]
    },
    {
      "cell_type": "markdown",
      "metadata": {
        "id": "n0UF2FLTlqXR"
      },
      "source": [
        "Средствами системы MathCAD реализовать\n",
        "подпрограмму CALC_PI, реализующую вычисление значения числа pi в\n",
        "соответствии моделью описанной в разделе 1.2. Входными параметрами\n",
        "подпрограммы должны являться координаты центра окружности – 0x и 0y и\n",
        "значение ее радиуса – 0r , а так же число экспериментов для генератора\n",
        "случайных чисел – ExpNmb . Выходным значением должно являться\n",
        "вычисленное значение числа pi. Для генерации случайных значений на\n",
        "интервале от 0 до 1 использовать встроенную функцию MathCAD – rnd."
      ]
    },
    {
      "cell_type": "code",
      "execution_count": 1,
      "metadata": {
        "colab": {
          "base_uri": "https://localhost:8080/"
        },
        "id": "45iFs7SplV_X",
        "outputId": "4bbb71f8-2394-421d-e479-aa2b0cc1ce1f"
      },
      "outputs": [
        {
          "name": "stdout",
          "output_type": "stream",
          "text": [
            "3.143620278819448\n"
          ]
        }
      ],
      "source": [
        "import random\n",
        "\n",
        "def CALC_PI(x, y, r, ExpNmb):\n",
        "    insideCircle = 0\n",
        "    xmin = x - r\n",
        "    xmax = x + r\n",
        "    ymin = y - r\n",
        "    ymax = y + r\n",
        "    \n",
        "    for _ in range(ExpNmb):\n",
        "        \n",
        "        xp = (xmax - xmin)*random.uniform(0, 1) + xmin\n",
        "        yp = (ymax - ymin)*random.uniform(0, 1) + ymin\n",
        "\n",
        "        if (xp - x)**2 + (yp - y)**2 <= r**2:\n",
        "            insideCircle += 1\n",
        "\n",
        "    piEstimate = 4 * (insideCircle / ExpNmb)\n",
        "\n",
        "    return piEstimate\n",
        "\n",
        "x0 = 1\n",
        "y0 = 2\n",
        "r0 = 5\n",
        "expNmb = 3456789\n",
        "\n",
        "piEstimate = CALC_PI(x0, y0, r0, expNmb)\n",
        "print(piEstimate)"
      ]
    },
    {
      "cell_type": "markdown",
      "metadata": {
        "id": "2JXd6BbjmWek"
      },
      "source": [
        "### Задание №2"
      ]
    },
    {
      "cell_type": "markdown",
      "metadata": {
        "id": "d8m5rbwNmWPd"
      },
      "source": [
        "С помощью подпрограммы CALC_PI провести расчет\n",
        "значения числа pi для числа экспериментов ExpNmb = 10^4. Затем\n",
        "последовательно провести расчеты значения числа pi для числа\n",
        "экспериментов ExpNmb = 10^5, 10^6, 10^7, 10^8 и занести полученные результаты в\n",
        "вектор SERIA_1. Провести еще четыре серии расчетов для числа\n",
        "экспериментов ExpNmb = 10^4, 10^5, 10^6, 10^7, 10^8 и занести результаты в вектора\n",
        "SERIA_2, SERIA_3, SERIA_4 и SERIA_5."
      ]
    },
    {
      "cell_type": "code",
      "execution_count": 3,
      "metadata": {
        "colab": {
          "base_uri": "https://localhost:8080/",
          "height": 378
        },
        "id": "mC5HfJjQngWp",
        "outputId": "bae60774-143f-4394-ac5e-c946ca4d675c"
      },
      "outputs": [
        {
          "name": "stdout",
          "output_type": "stream",
          "text": [
            "Серия 1\n",
            "[3.1368, 3.13816, 3.14328, 3.1422192, 3.14153988]\n",
            "Серия 2\n",
            "[3.1716, 3.14652, 3.1425, 3.1420768, 3.14134272]\n",
            "Серия 3\n",
            "[3.1168, 3.1462, 3.14134, 3.1411756, 3.14155508]\n",
            "Серия 4\n",
            "[3.1604, 3.13096, 3.141712, 3.142116, 3.14181768]\n",
            "Серия 5\n",
            "[3.1332, 3.13848, 3.14084, 3.1417588, 3.14156368]\n"
          ]
        }
      ],
      "source": [
        "expNmbs = [10**4, 10**5, 10**6, 10**7, 10**8]\n",
        "serias = []\n",
        "\n",
        "for i in range (len(expNmbs)):\n",
        "  result = []\n",
        "  for expNmb in expNmbs:\n",
        "    result.append(CALC_PI(x0, y0, r0, expNmb))\n",
        "  serias.append(result)\n",
        "  print(\"Серия\", i+1)\n",
        "  print(serias[i])"
      ]
    },
    {
      "cell_type": "markdown",
      "metadata": {
        "id": "8asr2khLrDYu"
      },
      "source": [
        "### Задание №3"
      ]
    },
    {
      "cell_type": "markdown",
      "metadata": {
        "id": "Y1rDReuhrDMh"
      },
      "source": [
        "Рассчитать погрешность вычислений значений числа pi\n",
        "для каждой серии экспериментов. Затем получить средний результат по 5-ти\n",
        "сериям для каждого из соответствующего числа экспериментов и рассчитать\n",
        "погрешность вычислений для усредненных значений."
      ]
    },
    {
      "cell_type": "code",
      "execution_count": 4,
      "metadata": {
        "id": "EU320nmOoC5E"
      },
      "outputs": [
        {
          "name": "stdout",
          "output_type": "stream",
          "text": [
            "Погрешность вычислений значений числа pi для каждой серии экспериментов:\n",
            "Серия 1\n",
            "[0.0015255490186853722, 0.001092647573475408, 0.0005370990437855339, 0.0001994359165218127, 1.6798355360607657e-05]\n",
            "Серия 2\n",
            "[0.009551635020510596, 0.0015684230750211284, 0.0002888173325622469, 0.00015410858872920972, 7.95563325205779e-05]\n",
            "Серия 3\n",
            "[0.007891746742361191, 0.0014665639114422135, 8.042213541096616e-05, 0.00013275228069960186, 1.1960045090616266e-05]\n",
            "Серия 4\n",
            "[0.005986564295252109, 0.0033844787539987313, 3.798914224941639e-05, 0.0001665863362676904, 7.162813102128306e-05]\n",
            "Серия 5\n",
            "[0.002671464608947034, 0.0009907884098966345, 0.00023957707850291466, 5.2886044922751406e-05, 9.222580069392289e-06]\n",
            "Среднее значение в серии для 1 вычисления\n",
            "3.14376\n",
            "Среднее значение в серии для 2 вычисления\n",
            "3.1400639999999997\n",
            "Среднее значение в серии для 3 вычисления\n",
            "3.1419344000000002\n",
            "Среднее значение в серии для 4 вычисления\n",
            "3.14186928\n",
            "Среднее значение в серии для 5 вычисления\n",
            "3.141563808\n",
            "Погрешность вычислений для усредненных значений:\n",
            "[0.0006898877891537648, 0.0004865855501815712, 0.0001087812609367481, 8.805292114834421e-05, 9.18183640398221e-06]\n"
          ]
        }
      ],
      "source": [
        "import numpy as np\n",
        "\n",
        "print(\"Погрешность вычислений значений числа pi для каждой серии экспериментов:\")\n",
        "calculationErrorsForSerias = []\n",
        "for i in range (len(serias)):\n",
        "  seria = serias[i]\n",
        "  result = []\n",
        "  for j in range (len(seria)):\n",
        "    result.append(abs((seria[j] - np.pi)/np.pi))\n",
        "  calculationErrorsForSerias.append(result)\n",
        "  print(\"Серия\", i+1)\n",
        "  print(result)\n",
        "\n",
        "avarageValues = []\n",
        "for i in range (len(serias)):\n",
        "  result = 0\n",
        "  for j in range (len(serias)):\n",
        "    result += serias[j][i]\n",
        "  result = result/len(serias)\n",
        "  avarageValues.append(result)\n",
        "  print(\"Среднее значение в серии для\", i+1, \"вычисления\")\n",
        "  print(result)\n",
        "\n",
        "calculationErrorsForAvarageValues = []\n",
        "\n",
        "for avarageValue in avarageValues:\n",
        "  calculationErrorsForAvarageValues.append(abs((avarageValue - np.pi)/np.pi))\n",
        "print(\"Погрешность вычислений для усредненных значений:\")\n",
        "print(calculationErrorsForAvarageValues)\n",
        "    "
      ]
    },
    {
      "cell_type": "markdown",
      "metadata": {
        "id": "ZecRoSczrLrA"
      },
      "source": [
        "### Задание №4"
      ]
    },
    {
      "cell_type": "markdown",
      "metadata": {
        "id": "WUDZJHO6rLgi"
      },
      "source": [
        "Используя описанную методику расчета решить задачу\n",
        "нахождения значения определенного интеграла функции f(x)=x^3+1 на\n",
        "интервале от 0 до 2. Провести 3 серии расчетов для числа экспериментов ExpNmb = 10^4, 10^5, 10^6, 10^7. Определить погрешность вычислений для\n",
        "усредненных по сериям значений."
      ]
    },
    {
      "cell_type": "code",
      "execution_count": 5,
      "metadata": {
        "id": "tWKr2Qehrf93"
      },
      "outputs": [
        {
          "name": "stdout",
          "output_type": "stream",
          "text": [
            "5.909219776087019\n"
          ]
        }
      ],
      "source": [
        "import sympy as sy\n",
        "from sympy import integrate as si\n",
        "\n",
        "def CALC_INTEGRAL(a, b, f, ExpNmb):\n",
        "    m = 0\n",
        "    \n",
        "    xmin = a\n",
        "    xmax = b\n",
        "    ymin = 0\n",
        "    ymax = f(b)\n",
        "    \n",
        "    for _ in range(ExpNmb):\n",
        "        x = (xmax - xmin)*random.uniform(0,1)\n",
        "        y = (ymax - ymin)*random.uniform(0,1)\n",
        "\n",
        "        if f(x) > y:\n",
        "            m += 1\n",
        "    integral = m/ExpNmb*(b - a)*f(b)\n",
        "    return integral\n",
        "\n",
        "a = 0\n",
        "b = 2\n",
        "def function(x):\n",
        "    return x**3 + 1\n",
        "expNmb = 34567\n",
        "\n",
        "print(CALC_INTEGRAL(a, b, function, expNmb))"
      ]
    },
    {
      "cell_type": "code",
      "execution_count": 6,
      "metadata": {},
      "outputs": [
        {
          "name": "stdout",
          "output_type": "stream",
          "text": [
            "Серия 1\n",
            "[3.126, 3.13516, 3.143224, 3.1419932, 3.1413386]\n",
            "Серия 2\n",
            "[3.1284, 3.14808, 3.140036, 3.14258, 3.1416978]\n",
            "Серия 3\n",
            "[3.1416, 3.14052, 3.142164, 3.14093, 3.14167012]\n",
            "Серия 4\n",
            "[3.1664, 3.13844, 3.14434, 3.1415812, 3.14177896]\n",
            "Серия 5\n",
            "[3.1336, 3.14892, 3.141276, 3.1412436, 3.14166456]\n",
            "Среднее значение в серии для 1 вычисления\n",
            "3.1391999999999998\n",
            "Среднее значение в серии для 2 вычисления\n",
            "3.142224\n",
            "Среднее значение в серии для 3 вычисления\n",
            "3.1422079999999997\n",
            "Среднее значение в серии для 4 вычисления\n",
            "3.1416656000000005\n",
            "Среднее значение в серии для 5 вычисления\n",
            "3.1416300080000004\n",
            "Погрешность вычислений для усредненных значений:\n",
            "[0.476800000000000, 0.476296000000000, 0.476298666666667, 0.476389066666667, 0.476394998666667]\n"
          ]
        }
      ],
      "source": [
        "ExpNmbs = [10^4, 10^5, 10^6, 10^7]\n",
        "\n",
        "serias = []\n",
        "\n",
        "for i in range (len(expNmbs)):\n",
        "  result = []\n",
        "  for expNmb in expNmbs:\n",
        "    result.append(CALC_PI(x0, y0, r0, expNmb))\n",
        "  serias.append(result)\n",
        "  print(\"Серия\", i+1)\n",
        "  print(serias[i])\n",
        "\n",
        "avarageValues = []\n",
        "for i in range (len(serias)):\n",
        "  result = 0\n",
        "  for j in range (len(serias)):\n",
        "    result += serias[j][i]\n",
        "  result = result/len(serias)\n",
        "  avarageValues.append(result)\n",
        "  print(\"Среднее значение в серии для\", i+1, \"вычисления\")\n",
        "  print(result)\n",
        "\n",
        "calculationErrorsForAvarageValues = []\n",
        "\n",
        "x = sy.Symbol(\"x\")\n",
        "ans = si(function(x), (x, 0, 2))\n",
        "\n",
        "for avarageValue in avarageValues:\n",
        "  calculationErrorsForAvarageValues.append(abs((avarageValue - ans)/ans))\n",
        "print(\"Погрешность вычислений для усредненных значений:\")\n",
        "print(calculationErrorsForAvarageValues)"
      ]
    }
  ],
  "metadata": {
    "colab": {
      "authorship_tag": "ABX9TyMOhossVyVGCELaBcMS2ib4",
      "include_colab_link": true,
      "provenance": []
    },
    "kernelspec": {
      "display_name": "Python 3",
      "name": "python3"
    },
    "language_info": {
      "codemirror_mode": {
        "name": "ipython",
        "version": 3
      },
      "file_extension": ".py",
      "mimetype": "text/x-python",
      "name": "python",
      "nbconvert_exporter": "python",
      "pygments_lexer": "ipython3",
      "version": "3.9.6"
    }
  },
  "nbformat": 4,
  "nbformat_minor": 0
}
